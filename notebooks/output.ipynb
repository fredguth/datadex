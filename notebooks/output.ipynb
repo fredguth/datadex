{
 "cells": [
  {
   "cell_type": "code",
   "execution_count": 1,
   "metadata": {},
   "outputs": [],
   "source": [
    "import duckdb\n",
    "import os\n",
    "from tqdm import tqdm\n",
    "import openpyxl"
   ]
  },
  {
   "cell_type": "code",
   "execution_count": 2,
   "metadata": {},
   "outputs": [],
   "source": [
    "con = duckdb.connect(\"../data/local.duckdb\")"
   ]
  },
  {
   "cell_type": "code",
   "execution_count": 3,
   "metadata": {},
   "outputs": [
    {
     "name": "stderr",
     "output_type": "stream",
     "text": [
      "Processing PROD: 100%|██████████| 23/23 [00:01<00:00, 16.19it/s]\n",
      "Processing CDT: 100%|██████████| 24/24 [00:14<00:00,  1.65it/s]\n",
      "Processing ESTAB: 100%|██████████| 26/26 [00:00<00:00, 73.09it/s]\n"
     ]
    }
   ],
   "source": [
    "tbls = ['PROD', 'CDT', 'ESTAB']\n",
    "for t in tbls:\n",
    "    df = con.sql(f'SELECT * FROM {t};').to_df()\n",
    "    for i, x in tqdm(df.groupby('UF'), desc=f'Processing {t}'):\n",
    "        p = '../data/output/UF={}'.format(i)\n",
    "        if not os.path.exists(p):\n",
    "            os.makedirs(p)\n",
    "        x.to_csv(os.path.join(p, f'{t}.csv'),decimal=',', sep=\";\")"
   ]
  },
  {
   "cell_type": "code",
   "execution_count": 4,
   "metadata": {},
   "outputs": [],
   "source": [
    "df = con.sql('SELECT * FROM ALIM').to_df()\n",
    "df.to_excel('../data/output/ult_alim.xlsx', index=False, engine='openpyxl')"
   ]
  }
 ],
 "metadata": {
  "kernelspec": {
   "display_name": ".venv",
   "language": "python",
   "name": "python3"
  },
  "language_info": {
   "codemirror_mode": {
    "name": "ipython",
    "version": 3
   },
   "file_extension": ".py",
   "mimetype": "text/x-python",
   "name": "python",
   "nbconvert_exporter": "python",
   "pygments_lexer": "ipython3",
   "version": "3.11.8"
  }
 },
 "nbformat": 4,
 "nbformat_minor": 2
}
